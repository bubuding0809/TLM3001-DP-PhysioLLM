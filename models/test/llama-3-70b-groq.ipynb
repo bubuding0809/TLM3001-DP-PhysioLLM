{
 "cells": [
  {
   "cell_type": "code",
   "execution_count": 1,
   "metadata": {},
   "outputs": [],
   "source": [
    "from langchain_core.prompts import ChatPromptTemplate\n",
    "from langchain_groq import ChatGroq\n",
    "from langchain_core.output_parsers import StrOutputParser\n",
    "import os"
   ]
  },
  {
   "cell_type": "code",
   "execution_count": 2,
   "metadata": {},
   "outputs": [],
   "source": [
    "os.environ[\"GROQ_API_KEY\"] = \"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\""
   ]
  },
  {
   "cell_type": "code",
   "execution_count": 3,
   "metadata": {},
   "outputs": [],
   "source": [
    "llm = ChatGroq(model=\"llama3-70b-8192\")"
   ]
  },
  {
   "cell_type": "code",
   "execution_count": 4,
   "metadata": {},
   "outputs": [
    {
     "data": {
      "text/plain": [
       "'Low-latency Large Language Models (LLMs) are crucial in various applications where real-time or near-real-time processing is essential. The importance of low-latency LLMs can be summarized as follows:\\n\\n1. **Improved User Experience**: Low-latency LLMs enable applications to respond quickly to user input, providing a seamless and interactive experience. This is particularly important in applications like virtual assistants, chatbots, and language translation systems, where delayed responses can lead to frustration and abandonment.\\n2. **Real-time Processing**: Low-latency LLMs are essential for applications that require real-time processing, such as:\\n\\t* Sentiment analysis and opinion mining in social media monitoring.\\n\\t* Real-time language translation for live events, conferences, or meetings.\\n\\t* Conversational AI systems that need to respond quickly to user queries.\\n3. **Enhanced Productivity**: Low-latency LLMs can significantly improve productivity in various industries, such as:\\n\\t* Customer service: Quick responses to customer inquiries can lead to higher customer satisfaction and loyalty.\\n\\t* Healthcare: Rapid analysis of medical reports and patient data can aid in timely diagnosis and treatment.\\n\\t* Finance: Real-time analysis of market trends and news can inform investment decisions.\\n4. **Competitive Advantage**: In many applications, low-latency LLMs can provide a competitive advantage by:\\n\\t* Enabling faster decision-making and response times.\\n\\t* Improving customer engagement and retention.\\n\\t* Enhancing the overall user experience, leading to increased loyalty and advocacy.\\n5. **Edge Computing and IoT**: With the proliferation of edge computing and IoT devices, low-latency LLMs are essential for processing and analyzing data in real-time, enabling applications like:\\n\\t* Autonomous vehicles: Real-time language processing for voice commands and alerts.\\n\\t* Smart homes: Instant responses to voice commands for lighting, temperature, and security control.\\n6. **Scalability and Cost-Effectiveness**: Low-latency LLMs can help reduce the computational resources required for processing, leading to cost savings and increased scalability. This is particularly important for large-scale applications and cloud-based services.\\n7. **Security and Compliance**: In high-stakes applications like cybersecurity and compliance, low-latency LLMs can help detect and respond to threats in real-time, reducing the risk of security breaches and data loss.\\n\\nIn summary, low-latency LLMs are essential for applications that require real-time processing, improved user experience, and enhanced productivity. They provide a competitive advantage, scalability, and cost-effectiveness, while also ensuring security and compliance in critical applications.'"
      ]
     },
     "execution_count": 4,
     "metadata": {},
     "output_type": "execute_result"
    }
   ],
   "source": [
    "system = \"You are a helpful assistant.\"\n",
    "human = \"{text}\"\n",
    "prompt = ChatPromptTemplate.from_messages([(\"system\", system), (\"human\", human)])\n",
    "\n",
    "chain = prompt | llm | StrOutputParser()\n",
    "chain.invoke({\"text\": \"Explain the importance of low latency LLMs.\"})"
   ]
  }
 ],
 "metadata": {
  "kernelspec": {
   "display_name": "env",
   "language": "python",
   "name": "python3"
  },
  "language_info": {
   "codemirror_mode": {
    "name": "ipython",
    "version": 3
   },
   "file_extension": ".py",
   "mimetype": "text/x-python",
   "name": "python",
   "nbconvert_exporter": "python",
   "pygments_lexer": "ipython3",
   "version": "3.11.5"
  }
 },
 "nbformat": 4,
 "nbformat_minor": 2
}
